{
 "cells": [
  {
   "cell_type": "markdown",
   "metadata": {},
   "source": [
    "# Binary classification using sklearn"
   ]
  },
  {
   "cell_type": "markdown",
   "metadata": {},
   "source": [
    "I have used most popular dataset i.e, iris dataset for  binary classification.\n",
    "In this project I have used two labels, which are two flowers, namely - Iris-versicolor and Iris-setosa\n",
    "In the below step I have carried out the basic Machine Learning lifecycle where the aim is to use the dataset, create a Machine Learning model and finding its accuracy."
   ]
  },
  {
   "cell_type": "code",
   "execution_count": 1,
   "metadata": {},
   "outputs": [],
   "source": [
    "import pandas as pd\n",
    "import numpy as np\n",
    "from sklearn.model_selection import train_test_split\n",
    "from sklearn.naive_bayes import GaussianNB\n",
    "from sklearn.metrics import accuracy_score"
   ]
  },
  {
   "cell_type": "markdown",
   "metadata": {},
   "source": [
    "Step 1:This step is to load the dataset using Pandas data-frame"
   ]
  },
  {
   "cell_type": "code",
   "execution_count": null,
   "metadata": {},
   "outputs": [],
   "source": [
    "# load data from dataset file\n",
    "my_data = pd.read_csv('C:\\Projects\\ML-BinaryClassification\\iris\\Iris.csv')"
   ]
  },
  {
   "cell_type": "markdown",
   "metadata": {},
   "source": [
    "Step 2: This set is to extract the features and labels in two different datafames. \n",
    "        It is done using basic operations of pandas."
   ]
  },
  {
   "cell_type": "code",
   "execution_count": 2,
   "metadata": {},
   "outputs": [],
   "source": [
    "#split the dataset into features and labels\n",
    "features = my_data.iloc[:, : 5]\n",
    "\n",
    "labels = my_data[my_data.columns[-1]]"
   ]
  },
  {
   "cell_type": "markdown",
   "metadata": {},
   "source": [
    "Steps 3: In this step I split the dataset into two parts - 80% and 20% .\n",
    "80% of the data is used for training the model and 20% of the data is used to find out the accuracy of data model."
   ]
  },
  {
   "cell_type": "code",
   "execution_count": 3,
   "metadata": {},
   "outputs": [],
   "source": [
    "# Split the data into train and test\n",
    "train, test, train_labels, test_labels = train_test_split(features, labels, test_size=0.20, random_state=42)\n",
    "\n",
    "#print(test_labels)\n",
    "#print (features)\n",
    "#print (labels)"
   ]
  },
  {
   "cell_type": "markdown",
   "metadata": {},
   "source": [
    "Step 4: This is the step to initialize the GaussainNB classifier\n",
    "Note: A Gaussian Naive Bayes algorithm is a special type of NB algorithm. It’s specifically used when the features have continuous values. It’s also assumed that all the features are following a gaussian distribution i.e, normal distribution."
   ]
  },
  {
   "cell_type": "code",
   "execution_count": 4,
   "metadata": {},
   "outputs": [],
   "source": [
    "# Initialize our classifier\n",
    "gnb = GaussianNB()"
   ]
  },
  {
   "cell_type": "markdown",
   "metadata": {},
   "source": [
    "Step 5: Using training data, model is created"
   ]
  },
  {
   "cell_type": "code",
   "execution_count": 5,
   "metadata": {},
   "outputs": [],
   "source": [
    "# Train our classifier\n",
    "model = gnb.fit(train, train_labels)"
   ]
  },
  {
   "cell_type": "markdown",
   "metadata": {},
   "source": [
    "Step 6: We can see the predictons made by the model using test data"
   ]
  },
  {
   "cell_type": "code",
   "execution_count": 6,
   "metadata": {},
   "outputs": [
    {
     "name": "stdout",
     "output_type": "stream",
     "text": [
      "    Id  SepalLengthCm  SepalWidthCm  PetalLengthCm  PetalWidthCm\n",
      "83  84            6.0           2.7            5.1           1.6\n",
      "53  54            5.5           2.3            4.0           1.3\n",
      "70  71            5.9           3.2            4.8           1.8\n",
      "45  46            4.8           3.0            1.4           0.3\n",
      "44  45            5.1           3.8            1.9           0.4\n",
      "39  40            5.1           3.4            1.5           0.2\n",
      "22  23            4.6           3.6            1.0           0.2\n",
      "80  81            5.5           2.4            3.8           1.1\n",
      "10  11            5.4           3.7            1.5           0.2\n",
      "0    1            5.1           3.5            1.4           0.2\n",
      "18  19            5.7           3.8            1.7           0.3\n",
      "30  31            4.8           3.1            1.6           0.2\n",
      "73  74            6.1           2.8            4.7           1.2\n",
      "33  34            5.5           4.2            1.4           0.2\n",
      "90  91            5.5           2.6            4.4           1.2\n",
      "4    5            5.0           3.6            1.4           0.2\n",
      "76  77            6.8           2.8            4.8           1.4\n",
      "77  78            6.7           3.0            5.0           1.7\n",
      "12  13            4.8           3.0            1.4           0.1\n",
      "31  32            5.4           3.4            1.5           0.4\n",
      "['Iris-versicolor' 'Iris-versicolor' 'Iris-versicolor' 'Iris-setosa'\n",
      " 'Iris-setosa' 'Iris-setosa' 'Iris-setosa' 'Iris-versicolor' 'Iris-setosa'\n",
      " 'Iris-setosa' 'Iris-setosa' 'Iris-setosa' 'Iris-versicolor' 'Iris-setosa'\n",
      " 'Iris-versicolor' 'Iris-setosa' 'Iris-versicolor' 'Iris-versicolor'\n",
      " 'Iris-setosa' 'Iris-setosa']\n"
     ]
    }
   ],
   "source": [
    "# Make predictions\n",
    "print(test)\n",
    "preds = gnb.predict(test)\n",
    "print(preds)"
   ]
  },
  {
   "cell_type": "markdown",
   "metadata": {},
   "source": [
    "Step 7: In this step we calculate the accuracy of the train model"
   ]
  },
  {
   "cell_type": "code",
   "execution_count": 8,
   "metadata": {},
   "outputs": [
    {
     "name": "stdout",
     "output_type": "stream",
     "text": [
      "1.0\n"
     ]
    }
   ],
   "source": [
    "# Evaluate accuracy\n",
    "print(\"The accuracy of this model is: \", accuracy_score(test_labels, preds))"
   ]
  },
  {
   "cell_type": "code",
   "execution_count": null,
   "metadata": {},
   "outputs": [],
   "source": []
  }
 ],
 "metadata": {
  "anaconda-cloud": {},
  "kernelspec": {
   "display_name": "Python 3",
   "language": "python",
   "name": "python3"
  },
  "language_info": {
   "codemirror_mode": {
    "name": "ipython",
    "version": 3
   },
   "file_extension": ".py",
   "mimetype": "text/x-python",
   "name": "python",
   "nbconvert_exporter": "python",
   "pygments_lexer": "ipython3",
   "version": "3.7.3"
  }
 },
 "nbformat": 4,
 "nbformat_minor": 1
}
